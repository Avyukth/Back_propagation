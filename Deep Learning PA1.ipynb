{
 "cells": [
  {
   "cell_type": "code",
   "execution_count": 57,
   "metadata": {
    "collapsed": true
   },
   "outputs": [],
   "source": [
    "\n",
    "%autoreload 2\n",
    "%reload_ext autoreload\n",
    "\n",
    "import tensorflow as tf\n",
    "import pandas as pd\n",
    "import numpy as np\n",
    "import matplotlib.pyplot as plt\n",
    "from PIL import Image\n",
    "from scipy import ndimage\n",
    "%matplotlib inline\n",
    "\n"
   ]
  },
  {
   "cell_type": "code",
   "execution_count": 1,
   "metadata": {
    "collapsed": true
   },
   "outputs": [],
   "source": [
    "def load_data():\n",
    "    train=pd.read_csv(\"train.csv\")\n",
    "    test=pd.read_csv(\"test.csv\")\n",
    "    train_x=np.array(train.loc[:,train.columns.difference([\"id\",\"label\"])])\n",
    "    train_y=np.array(train[\"label\"]).reshape(55000,1)\n",
    "    return train_x,train_y"
   ]
  },
  {
   "cell_type": "code",
   "execution_count": null,
   "metadata": {
    "collapsed": true
   },
   "outputs": [],
   "source": [
    "\n",
    "def sigmoid(Z):\n",
    "    A= 1/(1+np.exp(-Z))\n",
    "    cache = Z\n",
    "    return A,cache\n",
    "\n",
    "\n",
    "def relu(Z):\n",
    "    A= np.maximum(0,Z)\n",
    "    assert(A.shape == Z.shape)\n",
    "    cache = Z\n",
    "    return A,cache\n",
    "\n",
    "def tanh(Z):\n",
    "    A=np.math.tanh(Z)\n",
    "    assert(A.shape == Z.shape)\n",
    "    cache = Z\n",
    "    return A,cache\n",
    "\n",
    "def sigmoid_backward(dA, cache):\n",
    "    Z=cache\n",
    "    s=1/(1+np.exp(-Z))\n",
    "    dZ=da*s*(1-s)\n",
    "    assert(dZ.shape==Z.shape)\n",
    "    return dZ\n",
    "\n",
    "def relu_backward(dA, cache):\n",
    "    Z=cache\n",
    "    dZ=np.array(dA,copy=True)\n",
    "    dZ[Z<=0]=0\n",
    "    assert(dZ.shape==Z.shape)\n",
    "    return dZ\n",
    "\n",
    "\n",
    "def tanh_backward(dA,cache):\n",
    "    Z=cache\n",
    "    dZ=1-np.square(np.math.tanh(Z))\n",
    "    assert(dZ.shape==Z.shape)\n",
    "    return dZ\n"
   ]
  },
  {
   "cell_type": "code",
   "execution_count": 52,
   "metadata": {},
   "outputs": [
    {
     "data": {
      "image/png": "[encoded data removed]",
      "text/plain": [
       "<matplotlib.figure.Figure at 0x7f7f538662e8>"
      ]
     },
     "metadata": {},
     "output_type": "display_data"
    }
   ],
   "source": [
    "df=pd.read_csv(\"sample_sub.csv\")\n",
    "y=np.array(df.loc[:,df.columns!=\"id\"])\n",
    "\n",
    "df2=pd.read_csv(\"test.csv\")\n",
    "x=np.array(df2.loc[:,df2.columns!=\"id\"])\n",
    "# for i in range(1,10):\n",
    "#     p=x[10:20,][i]\n",
    "#     p.reshape(28,28)\n",
    "#     plt.imshow(p)\n",
    "for i in x[10:20,]:\n",
    "    j=i.reshape(28,28)\n",
    "    plt.imshow(j)"
   ]
  }
 ],
 "metadata": {
  "kernelspec": {
   "display_name": "Python 3",
   "language": "python",
   "name": "python3"
  },
  "language_info": {
   "codemirror_mode": {
    "name": "ipython",
    "version": 3
   },
   "file_extension": ".py",
   "mimetype": "text/x-python",
   "name": "python",
   "nbconvert_exporter": "python",
   "pygments_lexer": "ipython3",
   "version": "3.6.2"
  }
 },
 "nbformat": 4,
 "nbformat_minor": 2
}
